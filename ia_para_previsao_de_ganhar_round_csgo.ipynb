{
  "nbformat": 4,
  "nbformat_minor": 0,
  "metadata": {
    "colab": {
      "name": "ia_para_previsao_de_ganhar_round_csgo.ipynb",
      "provenance": []
    },
    "kernelspec": {
      "name": "python3",
      "display_name": "Python 3"
    },
    "language_info": {
      "name": "python"
    }
  },
  "cells": [
    {
      "cell_type": "code",
      "execution_count": null,
      "metadata": {
        "id": "RsthQT_HDlN1"
      },
      "outputs": [],
      "source": [
        "#Importando bibliotecas\n",
        "import numpy as np\n",
        "import pandas as pd\n",
        "from sklearn.model_selection import train_test_split, GridSearchCV\n",
        "from sklearn.tree import DecisionTreeClassifier\n",
        "from sklearn.metrics import  accuracy_score, classification_report\n",
        "from sklearn.preprocessing import LabelEncoder, StandardScaler\n",
        "import seaborn as sns\n",
        "from sklearn.linear_model import LogisticRegression\n",
        "from sklearn.svm import SVC"
      ]
    },
    {
      "cell_type": "code",
      "source": [
        "#cor para gráficos\n",
        "T = '#CC8963'\n",
        "CT = '#5975A4'\n",
        "#Legenda para a Matrix de Confusão\n",
        "x_labels = ['Falso Positivo', 'Verdadeiro Positivo']\n",
        "y_labels = ['Verdadeiro Negativo', 'Falso Negativo']"
      ],
      "metadata": {
        "id": "1HBDm5QXdyOQ"
      },
      "execution_count": null,
      "outputs": []
    },
    {
      "cell_type": "code",
      "source": [
        "df = pd.read_csv('/content/csgo_round_snapshots.csv')\n",
        "df.head()"
      ],
      "metadata": {
        "colab": {
          "base_uri": "https://localhost:8080/",
          "height": 299
        },
        "id": "YRW3S3MYDsRC",
        "outputId": "bbb7d0a8-389f-4bcf-cb85-3b6456ef5235"
      },
      "execution_count": null,
      "outputs": [
        {
          "output_type": "execute_result",
          "data": {
            "text/plain": [
              "   time_left  ct_score  t_score       map  bomb_planted  ct_health  t_health  \\\n",
              "0     175.00       0.0      0.0  de_dust2         False      500.0     500.0   \n",
              "1     156.03       0.0      0.0  de_dust2         False      500.0     500.0   \n",
              "2      96.03       0.0      0.0  de_dust2         False      391.0     400.0   \n",
              "3      76.03       0.0      0.0  de_dust2         False      391.0     400.0   \n",
              "4     174.97       1.0      0.0  de_dust2         False      500.0     500.0   \n",
              "\n",
              "   ct_armor  t_armor  ct_money  ...  t_grenade_flashbang  \\\n",
              "0       0.0      0.0    4000.0  ...                  0.0   \n",
              "1     400.0    300.0     600.0  ...                  0.0   \n",
              "2     294.0    200.0     750.0  ...                  0.0   \n",
              "3     294.0    200.0     750.0  ...                  0.0   \n",
              "4     192.0      0.0   18350.0  ...                  0.0   \n",
              "\n",
              "   ct_grenade_smokegrenade  t_grenade_smokegrenade  \\\n",
              "0                      0.0                     0.0   \n",
              "1                      0.0                     2.0   \n",
              "2                      0.0                     2.0   \n",
              "3                      0.0                     0.0   \n",
              "4                      0.0                     0.0   \n",
              "\n",
              "   ct_grenade_incendiarygrenade  t_grenade_incendiarygrenade  \\\n",
              "0                           0.0                          0.0   \n",
              "1                           0.0                          0.0   \n",
              "2                           0.0                          0.0   \n",
              "3                           0.0                          0.0   \n",
              "4                           0.0                          0.0   \n",
              "\n",
              "   ct_grenade_molotovgrenade  t_grenade_molotovgrenade  \\\n",
              "0                        0.0                       0.0   \n",
              "1                        0.0                       0.0   \n",
              "2                        0.0                       0.0   \n",
              "3                        0.0                       0.0   \n",
              "4                        0.0                       0.0   \n",
              "\n",
              "   ct_grenade_decoygrenade  t_grenade_decoygrenade  round_winner  \n",
              "0                      0.0                     0.0            CT  \n",
              "1                      0.0                     0.0            CT  \n",
              "2                      0.0                     0.0            CT  \n",
              "3                      0.0                     0.0            CT  \n",
              "4                      0.0                     0.0            CT  \n",
              "\n",
              "[5 rows x 97 columns]"
            ],
            "text/html": [
              "\n",
              "  <div id=\"df-294184df-311c-4100-9804-1a156d77cf7c\">\n",
              "    <div class=\"colab-df-container\">\n",
              "      <div>\n",
              "<style scoped>\n",
              "    .dataframe tbody tr th:only-of-type {\n",
              "        vertical-align: middle;\n",
              "    }\n",
              "\n",
              "    .dataframe tbody tr th {\n",
              "        vertical-align: top;\n",
              "    }\n",
              "\n",
              "    .dataframe thead th {\n",
              "        text-align: right;\n",
              "    }\n",
              "</style>\n",
              "<table border=\"1\" class=\"dataframe\">\n",
              "  <thead>\n",
              "    <tr style=\"text-align: right;\">\n",
              "      <th></th>\n",
              "      <th>time_left</th>\n",
              "      <th>ct_score</th>\n",
              "      <th>t_score</th>\n",
              "      <th>map</th>\n",
              "      <th>bomb_planted</th>\n",
              "      <th>ct_health</th>\n",
              "      <th>t_health</th>\n",
              "      <th>ct_armor</th>\n",
              "      <th>t_armor</th>\n",
              "      <th>ct_money</th>\n",
              "      <th>...</th>\n",
              "      <th>t_grenade_flashbang</th>\n",
              "      <th>ct_grenade_smokegrenade</th>\n",
              "      <th>t_grenade_smokegrenade</th>\n",
              "      <th>ct_grenade_incendiarygrenade</th>\n",
              "      <th>t_grenade_incendiarygrenade</th>\n",
              "      <th>ct_grenade_molotovgrenade</th>\n",
              "      <th>t_grenade_molotovgrenade</th>\n",
              "      <th>ct_grenade_decoygrenade</th>\n",
              "      <th>t_grenade_decoygrenade</th>\n",
              "      <th>round_winner</th>\n",
              "    </tr>\n",
              "  </thead>\n",
              "  <tbody>\n",
              "    <tr>\n",
              "      <th>0</th>\n",
              "      <td>175.00</td>\n",
              "      <td>0.0</td>\n",
              "      <td>0.0</td>\n",
              "      <td>de_dust2</td>\n",
              "      <td>False</td>\n",
              "      <td>500.0</td>\n",
              "      <td>500.0</td>\n",
              "      <td>0.0</td>\n",
              "      <td>0.0</td>\n",
              "      <td>4000.0</td>\n",
              "      <td>...</td>\n",
              "      <td>0.0</td>\n",
              "      <td>0.0</td>\n",
              "      <td>0.0</td>\n",
              "      <td>0.0</td>\n",
              "      <td>0.0</td>\n",
              "      <td>0.0</td>\n",
              "      <td>0.0</td>\n",
              "      <td>0.0</td>\n",
              "      <td>0.0</td>\n",
              "      <td>CT</td>\n",
              "    </tr>\n",
              "    <tr>\n",
              "      <th>1</th>\n",
              "      <td>156.03</td>\n",
              "      <td>0.0</td>\n",
              "      <td>0.0</td>\n",
              "      <td>de_dust2</td>\n",
              "      <td>False</td>\n",
              "      <td>500.0</td>\n",
              "      <td>500.0</td>\n",
              "      <td>400.0</td>\n",
              "      <td>300.0</td>\n",
              "      <td>600.0</td>\n",
              "      <td>...</td>\n",
              "      <td>0.0</td>\n",
              "      <td>0.0</td>\n",
              "      <td>2.0</td>\n",
              "      <td>0.0</td>\n",
              "      <td>0.0</td>\n",
              "      <td>0.0</td>\n",
              "      <td>0.0</td>\n",
              "      <td>0.0</td>\n",
              "      <td>0.0</td>\n",
              "      <td>CT</td>\n",
              "    </tr>\n",
              "    <tr>\n",
              "      <th>2</th>\n",
              "      <td>96.03</td>\n",
              "      <td>0.0</td>\n",
              "      <td>0.0</td>\n",
              "      <td>de_dust2</td>\n",
              "      <td>False</td>\n",
              "      <td>391.0</td>\n",
              "      <td>400.0</td>\n",
              "      <td>294.0</td>\n",
              "      <td>200.0</td>\n",
              "      <td>750.0</td>\n",
              "      <td>...</td>\n",
              "      <td>0.0</td>\n",
              "      <td>0.0</td>\n",
              "      <td>2.0</td>\n",
              "      <td>0.0</td>\n",
              "      <td>0.0</td>\n",
              "      <td>0.0</td>\n",
              "      <td>0.0</td>\n",
              "      <td>0.0</td>\n",
              "      <td>0.0</td>\n",
              "      <td>CT</td>\n",
              "    </tr>\n",
              "    <tr>\n",
              "      <th>3</th>\n",
              "      <td>76.03</td>\n",
              "      <td>0.0</td>\n",
              "      <td>0.0</td>\n",
              "      <td>de_dust2</td>\n",
              "      <td>False</td>\n",
              "      <td>391.0</td>\n",
              "      <td>400.0</td>\n",
              "      <td>294.0</td>\n",
              "      <td>200.0</td>\n",
              "      <td>750.0</td>\n",
              "      <td>...</td>\n",
              "      <td>0.0</td>\n",
              "      <td>0.0</td>\n",
              "      <td>0.0</td>\n",
              "      <td>0.0</td>\n",
              "      <td>0.0</td>\n",
              "      <td>0.0</td>\n",
              "      <td>0.0</td>\n",
              "      <td>0.0</td>\n",
              "      <td>0.0</td>\n",
              "      <td>CT</td>\n",
              "    </tr>\n",
              "    <tr>\n",
              "      <th>4</th>\n",
              "      <td>174.97</td>\n",
              "      <td>1.0</td>\n",
              "      <td>0.0</td>\n",
              "      <td>de_dust2</td>\n",
              "      <td>False</td>\n",
              "      <td>500.0</td>\n",
              "      <td>500.0</td>\n",
              "      <td>192.0</td>\n",
              "      <td>0.0</td>\n",
              "      <td>18350.0</td>\n",
              "      <td>...</td>\n",
              "      <td>0.0</td>\n",
              "      <td>0.0</td>\n",
              "      <td>0.0</td>\n",
              "      <td>0.0</td>\n",
              "      <td>0.0</td>\n",
              "      <td>0.0</td>\n",
              "      <td>0.0</td>\n",
              "      <td>0.0</td>\n",
              "      <td>0.0</td>\n",
              "      <td>CT</td>\n",
              "    </tr>\n",
              "  </tbody>\n",
              "</table>\n",
              "<p>5 rows × 97 columns</p>\n",
              "</div>\n",
              "      <button class=\"colab-df-convert\" onclick=\"convertToInteractive('df-294184df-311c-4100-9804-1a156d77cf7c')\"\n",
              "              title=\"Convert this dataframe to an interactive table.\"\n",
              "              style=\"display:none;\">\n",
              "        \n",
              "  <svg xmlns=\"http://www.w3.org/2000/svg\" height=\"24px\"viewBox=\"0 0 24 24\"\n",
              "       width=\"24px\">\n",
              "    <path d=\"M0 0h24v24H0V0z\" fill=\"none\"/>\n",
              "    <path d=\"M18.56 5.44l.94 2.06.94-2.06 2.06-.94-2.06-.94-.94-2.06-.94 2.06-2.06.94zm-11 1L8.5 8.5l.94-2.06 2.06-.94-2.06-.94L8.5 2.5l-.94 2.06-2.06.94zm10 10l.94 2.06.94-2.06 2.06-.94-2.06-.94-.94-2.06-.94 2.06-2.06.94z\"/><path d=\"M17.41 7.96l-1.37-1.37c-.4-.4-.92-.59-1.43-.59-.52 0-1.04.2-1.43.59L10.3 9.45l-7.72 7.72c-.78.78-.78 2.05 0 2.83L4 21.41c.39.39.9.59 1.41.59.51 0 1.02-.2 1.41-.59l7.78-7.78 2.81-2.81c.8-.78.8-2.07 0-2.86zM5.41 20L4 18.59l7.72-7.72 1.47 1.35L5.41 20z\"/>\n",
              "  </svg>\n",
              "      </button>\n",
              "      \n",
              "  <style>\n",
              "    .colab-df-container {\n",
              "      display:flex;\n",
              "      flex-wrap:wrap;\n",
              "      gap: 12px;\n",
              "    }\n",
              "\n",
              "    .colab-df-convert {\n",
              "      background-color: #E8F0FE;\n",
              "      border: none;\n",
              "      border-radius: 50%;\n",
              "      cursor: pointer;\n",
              "      display: none;\n",
              "      fill: #1967D2;\n",
              "      height: 32px;\n",
              "      padding: 0 0 0 0;\n",
              "      width: 32px;\n",
              "    }\n",
              "\n",
              "    .colab-df-convert:hover {\n",
              "      background-color: #E2EBFA;\n",
              "      box-shadow: 0px 1px 2px rgba(60, 64, 67, 0.3), 0px 1px 3px 1px rgba(60, 64, 67, 0.15);\n",
              "      fill: #174EA6;\n",
              "    }\n",
              "\n",
              "    [theme=dark] .colab-df-convert {\n",
              "      background-color: #3B4455;\n",
              "      fill: #D2E3FC;\n",
              "    }\n",
              "\n",
              "    [theme=dark] .colab-df-convert:hover {\n",
              "      background-color: #434B5C;\n",
              "      box-shadow: 0px 1px 3px 1px rgba(0, 0, 0, 0.15);\n",
              "      filter: drop-shadow(0px 1px 2px rgba(0, 0, 0, 0.3));\n",
              "      fill: #FFFFFF;\n",
              "    }\n",
              "  </style>\n",
              "\n",
              "      <script>\n",
              "        const buttonEl =\n",
              "          document.querySelector('#df-294184df-311c-4100-9804-1a156d77cf7c button.colab-df-convert');\n",
              "        buttonEl.style.display =\n",
              "          google.colab.kernel.accessAllowed ? 'block' : 'none';\n",
              "\n",
              "        async function convertToInteractive(key) {\n",
              "          const element = document.querySelector('#df-294184df-311c-4100-9804-1a156d77cf7c');\n",
              "          const dataTable =\n",
              "            await google.colab.kernel.invokeFunction('convertToInteractive',\n",
              "                                                     [key], {});\n",
              "          if (!dataTable) return;\n",
              "\n",
              "          const docLinkHtml = 'Like what you see? Visit the ' +\n",
              "            '<a target=\"_blank\" href=https://colab.research.google.com/notebooks/data_table.ipynb>data table notebook</a>'\n",
              "            + ' to learn more about interactive tables.';\n",
              "          element.innerHTML = '';\n",
              "          dataTable['output_type'] = 'display_data';\n",
              "          await google.colab.output.renderOutput(dataTable, element);\n",
              "          const docLink = document.createElement('div');\n",
              "          docLink.innerHTML = docLinkHtml;\n",
              "          element.appendChild(docLink);\n",
              "        }\n",
              "      </script>\n",
              "    </div>\n",
              "  </div>\n",
              "  "
            ]
          },
          "metadata": {},
          "execution_count": 5
        }
      ]
    },
    {
      "cell_type": "code",
      "source": [
        "sns.set(rc={'figure.figsize':(5,5)})\n",
        "sns.countplot(data = df, x = 'round_winner', palette=[CT,T])"
      ],
      "metadata": {
        "colab": {
          "base_uri": "https://localhost:8080/",
          "height": 356
        },
        "id": "scyEY4LyWdVE",
        "outputId": "07ab2813-dacb-4afd-d0f3-a5f2d194bd70"
      },
      "execution_count": null,
      "outputs": [
        {
          "output_type": "execute_result",
          "data": {
            "text/plain": [
              "<matplotlib.axes._subplots.AxesSubplot at 0x7fe81982db90>"
            ]
          },
          "metadata": {},
          "execution_count": 6
        },
        {
          "output_type": "display_data",
          "data": {
            "text/plain": [
              "<Figure size 360x360 with 1 Axes>"
            ],
            "image/png": "[encoded data removed]"
          },
          "metadata": {}
        }
      ]
    },
    {
      "cell_type": "markdown",
      "source": [
        "Observando os mapas mais jogados e quem ganha nestes mapas."
      ],
      "metadata": {
        "id": "YUgq196aZHC-"
      }
    },
    {
      "cell_type": "code",
      "source": [
        "sns.set(rc={'figure.figsize':(15,5)})\n",
        "sns.countplot(data = df, x = 'map')"
      ],
      "metadata": {
        "colab": {
          "base_uri": "https://localhost:8080/",
          "height": 361
        },
        "id": "p97V-aZNZWzI",
        "outputId": "dccf9011-c238-4803-b10f-4786392d92fd"
      },
      "execution_count": null,
      "outputs": [
        {
          "output_type": "execute_result",
          "data": {
            "text/plain": [
              "<matplotlib.axes._subplots.AxesSubplot at 0x7fe8197cffd0>"
            ]
          },
          "metadata": {},
          "execution_count": 7
        },
        {
          "output_type": "display_data",
          "data": {
            "text/plain": [
              "<Figure size 1080x360 with 1 Axes>"
            ],
            "image/png": "[encoded data removed]"
          },
          "metadata": {}
        }
      ]
    },
    {
      "cell_type": "code",
      "source": [
        "#Vendo quem ganha mais no mapa dust 2(2° mais popular)\n",
        "mapas_populares = ['de_dust2', 'de_inferno']\n",
        "mapa1 = df[df['map'] == mapas_populares[0]]\n",
        "sns.set(rc={'figure.figsize':(5,5)})\n",
        "sns.countplot(data = mapa1, x = 'round_winner', palette=[CT,T])"
      ],
      "metadata": {
        "colab": {
          "base_uri": "https://localhost:8080/",
          "height": 356
        },
        "id": "6HQn90SWalVC",
        "outputId": "55a271e0-94d0-4484-8d41-fc37619be468"
      },
      "execution_count": null,
      "outputs": [
        {
          "output_type": "execute_result",
          "data": {
            "text/plain": [
              "<matplotlib.axes._subplots.AxesSubplot at 0x7fe81926db10>"
            ]
          },
          "metadata": {},
          "execution_count": 8
        },
        {
          "output_type": "display_data",
          "data": {
            "text/plain": [
              "<Figure size 360x360 with 1 Axes>"
            ],
            "image/png": "[encoded data removed]"
          },
          "metadata": {}
        }
      ]
    },
    {
      "cell_type": "code",
      "source": [
        "#Vendo quem ganha mais no mapa inferno(1° mais popular)\n",
        "mapa2 = df[df['map'] == mapas_populares[1]]\n",
        "sns.set(rc={'figure.figsize':(5,5)})\n",
        "sns.countplot(data = mapa2, x = 'round_winner', palette=[T,CT])"
      ],
      "metadata": {
        "colab": {
          "base_uri": "https://localhost:8080/",
          "height": 356
        },
        "id": "_9mvq3MabWso",
        "outputId": "4900dc5d-1a8c-4c99-855e-14c8e6f1abcd"
      },
      "execution_count": null,
      "outputs": [
        {
          "output_type": "execute_result",
          "data": {
            "text/plain": [
              "<matplotlib.axes._subplots.AxesSubplot at 0x7fe8191dd290>"
            ]
          },
          "metadata": {},
          "execution_count": 9
        },
        {
          "output_type": "display_data",
          "data": {
            "text/plain": [
              "<Figure size 360x360 with 1 Axes>"
            ],
            "image/png": "[encoded data removed]"
          },
          "metadata": {}
        }
      ]
    },
    {
      "cell_type": "markdown",
      "source": [
        "É Visível que cada mapa possui uma equipe que ganha mais que a outra"
      ],
      "metadata": {
        "id": "esrKD51CevXL"
      }
    },
    {
      "cell_type": "markdown",
      "source": [
        "Criando Encoder e o Scaler para processar os dados"
      ],
      "metadata": {
        "id": "SrQwUVxJfmCg"
      }
    },
    {
      "cell_type": "code",
      "source": [
        "encoder = LabelEncoder()\n",
        "scaler = StandardScaler()"
      ],
      "metadata": {
        "id": "12mrbxC-eomi"
      },
      "execution_count": null,
      "outputs": []
    },
    {
      "cell_type": "code",
      "source": [
        "for column in df.columns:\n",
        "    if len(df[column].unique()) == 1:\n",
        "        df = df.drop([column], axis = 1)"
      ],
      "metadata": {
        "id": "mzDt2oDYhFJm"
      },
      "execution_count": null,
      "outputs": []
    },
    {
      "cell_type": "code",
      "source": [
        "#Convertendo string da equipe para um valor inteiro\n",
        "df['round_winner'] = df['round_winner'].replace({'T' : 0, 'CT' : 1})\n",
        "#Convertendo string de bomba plantada para um valor inteiro\n",
        "df['bomb_planted'] = df['bomb_planted'].astype(np.int16)\n",
        "#Atribuindo a y o ganhador do round\n",
        "y = df['round_winner']"
      ],
      "metadata": {
        "id": "uoEZ2q-XhMul"
      },
      "execution_count": null,
      "outputs": []
    },
    {
      "cell_type": "code",
      "source": [
        "#Retirando o ganhador do round da base de dados\n",
        "df = df.drop('round_winner', axis = 1)\n",
        "#Convertendo map que estava em string para inteiro\n",
        "df['map'] = encoder.fit_transform(df['map'])"
      ],
      "metadata": {
        "id": "b0Jpmmb6hn71"
      },
      "execution_count": null,
      "outputs": []
    },
    {
      "cell_type": "code",
      "source": [
        "#Criando um conjunto de dados pré processados e dividindo em campos de teste e treino\n",
        "X = pd.DataFrame(scaler.fit_transform(df), columns = df.columns)\n",
        "X_train, X_test, y_train, y_test = train_test_split(X, y, shuffle = True, train_size = 0.7, random_state = 24)"
      ],
      "metadata": {
        "id": "eukB-Au6h-_r"
      },
      "execution_count": null,
      "outputs": []
    },
    {
      "cell_type": "code",
      "source": [
        "#Implementando o modelo de árvore de decisão\n",
        "Estimator = DecisionTreeClassifier()\n",
        "param_grid = {'max_depth':[None,1,2,3], 'min_samples_leaf' :[2,3,4] }\n",
        "Optimizer = GridSearchCV(Estimator, param_grid, cv = 5)\n",
        "Optimizer.fit(X_train,y_train)\n",
        "predsTrain = Optimizer.predict(X_train)\n",
        "predsTest = Optimizer.predict(X_test)"
      ],
      "metadata": {
        "id": "Lm37_vXzib-l"
      },
      "execution_count": null,
      "outputs": []
    },
    {
      "cell_type": "code",
      "source": [
        "print('Report Treinamento')\n",
        "print(classification_report(y_train, predsTrain))\n",
        "print('==================================================================================')\n",
        "print('Report Teste')\n",
        "print(classification_report(y_test, predsTest))\n",
        "print('Acurácia: ', round(accuracy_score(y_test, predsTest), 2))"
      ],
      "metadata": {
        "colab": {
          "base_uri": "https://localhost:8080/"
        },
        "id": "qGOaKIJIiuL-",
        "outputId": "75316eeb-c5fa-4fa4-aec9-282b2c6ef02e"
      },
      "execution_count": null,
      "outputs": [
        {
          "output_type": "stream",
          "name": "stdout",
          "text": [
            "Report Treinamento\n",
            "              precision    recall  f1-score   support\n",
            "\n",
            "           0       0.95      0.99      0.97     43708\n",
            "           1       0.99      0.95      0.97     41979\n",
            "\n",
            "    accuracy                           0.97     85687\n",
            "   macro avg       0.97      0.97      0.97     85687\n",
            "weighted avg       0.97      0.97      0.97     85687\n",
            "\n",
            "==================================================================================\n",
            "Report Teste\n",
            "              precision    recall  f1-score   support\n",
            "\n",
            "           0       0.80      0.84      0.82     18698\n",
            "           1       0.82      0.78      0.80     18025\n",
            "\n",
            "    accuracy                           0.81     36723\n",
            "   macro avg       0.81      0.81      0.81     36723\n",
            "weighted avg       0.81      0.81      0.81     36723\n",
            "\n",
            "Acurácia:  0.81\n"
          ]
        }
      ]
    },
    {
      "cell_type": "code",
      "source": [
        "cf_matrix=pd.crosstab(y_test, predsTest, rownames=['Resultado real'] , colnames=['Resultado Recebido'])\n",
        "sns.heatmap((cf_matrix/1000), annot=True, cmap='Blues', xticklabels=x_labels, yticklabels=y_labels)"
      ],
      "metadata": {
        "colab": {
          "base_uri": "https://localhost:8080/",
          "height": 356
        },
        "id": "CWY1zgJqA2vn",
        "outputId": "f07521ec-408b-46fa-cfcc-33ae8005ad26"
      },
      "execution_count": null,
      "outputs": [
        {
          "output_type": "execute_result",
          "data": {
            "text/plain": [
              "<matplotlib.axes._subplots.AxesSubplot at 0x7fe81438e610>"
            ]
          },
          "metadata": {},
          "execution_count": 44
        },
        {
          "output_type": "display_data",
          "data": {
            "text/plain": [
              "<Figure size 360x360 with 2 Axes>"
            ],
            "image/png": "[encoded data removed]"
          },
          "metadata": {}
        }
      ]
    },
    {
      "cell_type": "code",
      "source": [
        "#Usando o modelo de regressão logistica\n",
        "print ('LogisticRegression')\n",
        "\n",
        "\n",
        "LR = LogisticRegression(multi_class='multinomial',max_iter=2000)\n",
        "LR.fit(X_train, y_train)\n",
        "predsTrain = LR.predict(X_train)\n",
        "predsTest = LR.predict(X_test)"
      ],
      "metadata": {
        "colab": {
          "base_uri": "https://localhost:8080/"
        },
        "id": "Db8fCaXlpWvQ",
        "outputId": "6055e10e-8de9-4e05-e19f-8b635c80ec95"
      },
      "execution_count": null,
      "outputs": [
        {
          "output_type": "stream",
          "name": "stdout",
          "text": [
            "LogisticRegression\n"
          ]
        }
      ]
    },
    {
      "cell_type": "code",
      "source": [
        "print('Report Treinamento')\n",
        "print(classification_report(y_train, predsTrain))\n",
        "print('==================================================================================')\n",
        "print('Report Teste')\n",
        "print(classification_report(y_test, predsTest))\n",
        "print('Acurácia: ', round(accuracy_score(y_test, predsTest), 2))"
      ],
      "metadata": {
        "colab": {
          "base_uri": "https://localhost:8080/"
        },
        "id": "NBXX4lPwp8FE",
        "outputId": "32211309-08a1-407a-c04c-8663aff2979e"
      },
      "execution_count": null,
      "outputs": [
        {
          "output_type": "stream",
          "name": "stdout",
          "text": [
            "Report Treinamento\n",
            "              precision    recall  f1-score   support\n",
            "\n",
            "           0       0.76      0.74      0.75     43708\n",
            "           1       0.74      0.75      0.75     41979\n",
            "\n",
            "    accuracy                           0.75     85687\n",
            "   macro avg       0.75      0.75      0.75     85687\n",
            "weighted avg       0.75      0.75      0.75     85687\n",
            "\n",
            "==================================================================================\n",
            "Report Teste\n",
            "              precision    recall  f1-score   support\n",
            "\n",
            "           0       0.76      0.75      0.75     18698\n",
            "           1       0.74      0.76      0.75     18025\n",
            "\n",
            "    accuracy                           0.75     36723\n",
            "   macro avg       0.75      0.75      0.75     36723\n",
            "weighted avg       0.75      0.75      0.75     36723\n",
            "\n",
            "Acurácia:  0.75\n"
          ]
        }
      ]
    },
    {
      "cell_type": "code",
      "source": [
        "cf_matrix=pd.crosstab(y_test, predsTest, rownames=['Resultado real'] , colnames=['Resultado Recebido'])\n",
        "sns.heatmap((cf_matrix/1000), annot=True, cmap='Blues', xticklabels=x_labels, yticklabels=y_labels)"
      ],
      "metadata": {
        "colab": {
          "base_uri": "https://localhost:8080/",
          "height": 356
        },
        "id": "gh2f0DJpCHum",
        "outputId": "aa333cc7-52f8-4e42-dbf5-877009d9be10"
      },
      "execution_count": null,
      "outputs": [
        {
          "output_type": "execute_result",
          "data": {
            "text/plain": [
              "<matplotlib.axes._subplots.AxesSubplot at 0x7fe81412f850>"
            ]
          },
          "metadata": {},
          "execution_count": 47
        },
        {
          "output_type": "display_data",
          "data": {
            "text/plain": [
              "<Figure size 360x360 with 2 Axes>"
            ],
            "image/png": "[encoded data removed]"
          },
          "metadata": {}
        }
      ]
    },
    {
      "cell_type": "code",
      "source": [
        "#Logistic Regression com hyper parametros\n",
        "param_grid = {'C': [0.001, 0.01, 0.1, 1, 10, 100, 1000] }\n",
        "\n",
        "search = GridSearchCV(LogisticRegression(max_iter=1000), param_grid)\n",
        "\n",
        "search.fit(X_train,y_train)\n",
        "clf = search.best_estimator_\n",
        "predsTrain = clf.predict(X_train)\n",
        "predsTest = clf.predict(X_test)"
      ],
      "metadata": {
        "id": "Q78lFvSWrr12"
      },
      "execution_count": null,
      "outputs": []
    },
    {
      "cell_type": "code",
      "source": [
        "print('Report Treinamento')\n",
        "print(classification_report(y_train, predsTrain))\n",
        "print('==================================================================================')\n",
        "print('Report Teste')\n",
        "print(classification_report(y_test, predsTest))\n",
        "print('Acurácia: ', round(accuracy_score(y_test, predsTest), 2))"
      ],
      "metadata": {
        "colab": {
          "base_uri": "https://localhost:8080/"
        },
        "id": "uyyPZKW_sk2C",
        "outputId": "4b2c3136-68b7-4cd7-bbf1-816435f16d03"
      },
      "execution_count": null,
      "outputs": [
        {
          "output_type": "stream",
          "name": "stdout",
          "text": [
            "Report Treinamento\n",
            "              precision    recall  f1-score   support\n",
            "\n",
            "           0       0.76      0.74      0.75     43708\n",
            "           1       0.74      0.76      0.75     41979\n",
            "\n",
            "    accuracy                           0.75     85687\n",
            "   macro avg       0.75      0.75      0.75     85687\n",
            "weighted avg       0.75      0.75      0.75     85687\n",
            "\n",
            "==================================================================================\n",
            "Report Teste\n",
            "              precision    recall  f1-score   support\n",
            "\n",
            "           0       0.76      0.75      0.75     18698\n",
            "           1       0.74      0.76      0.75     18025\n",
            "\n",
            "    accuracy                           0.75     36723\n",
            "   macro avg       0.75      0.75      0.75     36723\n",
            "weighted avg       0.75      0.75      0.75     36723\n",
            "\n",
            "Acurácia:  0.75\n"
          ]
        }
      ]
    },
    {
      "cell_type": "code",
      "source": [
        "cf_matrix=pd.crosstab(y_test, predsTest, rownames=['Resultado real'] , colnames=['Resultado Recebido'])\n",
        "sns.heatmap((cf_matrix/1000), annot=True, cmap='Blues', xticklabels=x_labels, yticklabels=y_labels)"
      ],
      "metadata": {
        "id": "NSwfHHMT-sPC"
      },
      "execution_count": null,
      "outputs": []
    },
    {
      "cell_type": "code",
      "source": [
        "#Implementando o SVM\n",
        "clf = SVC()\n",
        "clf.fit(X_train, y_train)\n",
        "predsTrain = clf.predict(X_train)\n",
        "predsTest = clf.predict(X_test)"
      ],
      "metadata": {
        "colab": {
          "base_uri": "https://localhost:8080/"
        },
        "id": "7c7COeozzcN5",
        "outputId": "eaf04e25-0943-4582-f1a6-b9ef473b7058"
      },
      "execution_count": null,
      "outputs": [
        {
          "output_type": "stream",
          "name": "stdout",
          "text": [
            "SVC\n"
          ]
        }
      ]
    },
    {
      "cell_type": "code",
      "source": [
        "print('Report Treinamento')\n",
        "print(classification_report(y_train, predsTrain))\n",
        "print('==================================================================================')\n",
        "print('Report Teste')\n",
        "print(classification_report(y_test, predsTest))\n",
        "print('Acurácia: ', round(accuracy_score(y_test, predsTest), 2))"
      ],
      "metadata": {
        "id": "NvzY5Gs00FsS",
        "colab": {
          "base_uri": "https://localhost:8080/"
        },
        "outputId": "fdd2bcd9-14e9-4519-97fc-7b3023776875"
      },
      "execution_count": null,
      "outputs": [
        {
          "output_type": "stream",
          "name": "stdout",
          "text": [
            "Report Treinamento\n",
            "              precision    recall  f1-score   support\n",
            "\n",
            "           0       0.85      0.76      0.80     43708\n",
            "           1       0.77      0.86      0.82     41979\n",
            "\n",
            "    accuracy                           0.81     85687\n",
            "   macro avg       0.81      0.81      0.81     85687\n",
            "weighted avg       0.81      0.81      0.81     85687\n",
            "\n",
            "==================================================================================\n",
            "Report Teste\n",
            "              precision    recall  f1-score   support\n",
            "\n",
            "           0       0.83      0.74      0.78     18698\n",
            "           1       0.75      0.84      0.79     18025\n",
            "\n",
            "    accuracy                           0.79     36723\n",
            "   macro avg       0.79      0.79      0.79     36723\n",
            "weighted avg       0.79      0.79      0.79     36723\n",
            "\n",
            "Acurácia:  0.79\n"
          ]
        }
      ]
    },
    {
      "cell_type": "code",
      "source": [
        "cf_matrix=pd.crosstab(y_test, predsTest, rownames=['Resultado real'] , colnames=['Resultado Recebido'])\n",
        "sns.heatmap((cf_matrix/1000), annot=True, cmap='Blues', xticklabels=x_labels, yticklabels=y_labels)"
      ],
      "metadata": {
        "colab": {
          "base_uri": "https://localhost:8080/",
          "height": 356
        },
        "id": "IqUIVp761L-y",
        "outputId": "e2508f0c-be20-4471-cba4-7798e42e74b9"
      },
      "execution_count": null,
      "outputs": [
        {
          "output_type": "execute_result",
          "data": {
            "text/plain": [
              "<matplotlib.axes._subplots.AxesSubplot at 0x7fe814b14810>"
            ]
          },
          "metadata": {},
          "execution_count": 32
        },
        {
          "output_type": "display_data",
          "data": {
            "text/plain": [
              "<Figure size 360x360 with 2 Axes>"
            ],
            "image/png": "[encoded data removed]"
          },
          "metadata": {}
        }
      ]
    },
    {
      "cell_type": "code",
      "source": [
        ""
      ],
      "metadata": {
        "id": "ZeOVeFF62pWU"
      },
      "execution_count": null,
      "outputs": []
    }
  ]
}